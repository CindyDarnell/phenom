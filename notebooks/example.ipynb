{
 "cells": [
  {
   "cell_type": "code",
   "execution_count": null,
   "metadata": {},
   "outputs": [],
   "source": [
    "%pylab"
   ]
  },
  {
   "cell_type": "code",
   "execution_count": null,
   "metadata": {},
   "outputs": [],
   "source": [
    "%matplotlib inline"
   ]
  },
  {
   "cell_type": "code",
   "execution_count": null,
   "metadata": {},
   "outputs": [],
   "source": [
    "import os\n",
    "os.chdir('..')"
   ]
  },
  {
   "cell_type": "code",
   "execution_count": null,
   "metadata": {},
   "outputs": [],
   "source": [
    "import GPy, scipy\n",
    "from phenom.design import Formula\n",
    "from phenom.phenotype import Phenotype\n",
    "import pandas as pd"
   ]
  },
  {
   "cell_type": "code",
   "execution_count": null,
   "metadata": {},
   "outputs": [],
   "source": [
    "n = 20\n",
    "r = 3\n",
    "\n",
    "x = np.linspace(-1, 1, n)[:,None]\n",
    "\n",
    "k1 = GPy.kern.RBF(1)\n",
    "k2 = GPy.kern.RBF(1, variance=.2)\n",
    "\n",
    "mu = scipy.stats.multivariate_normal.rvs(np.zeros(n), k1.K(x))\n",
    "b = scipy.stats.multivariate_normal.rvs(np.zeros(n), k2.K(x), size=r)\n",
    "\n",
    "d = np.zeros((r, r+1))\n",
    "d[:,0] = 1\n",
    "d[:,1:] = np.eye(r)\n",
    "\n",
    "yhat = np.dot(d, np.concatenate((mu[:,None], b.T), 1).T)\n",
    "y = yhat + scipy.stats.norm.rvs(scale=.1, size=yhat.shape)\n",
    "\n",
    "plt.plot(x[:,0], yhat.T)\n",
    "plt.plot(x, mu, c='k')"
   ]
  },
  {
   "cell_type": "code",
   "execution_count": null,
   "metadata": {},
   "outputs": [],
   "source": [
    "plt.plot(x[:,0], y.T)\n",
    "plt.plot(x, mu, c='k')"
   ]
  },
  {
   "cell_type": "code",
   "execution_count": null,
   "metadata": {},
   "outputs": [],
   "source": [
    "meta = pd.DataFrame(np.where(d[:,1:]!=0)[1], columns=['batch'])\n",
    "data = pd.DataFrame(y.T, index=x[:,0])\n",
    "\n",
    "mnull = Formula(meta, '1')\n",
    "mfull = mnull + Formula(meta, 'C(batch) + 0')"
   ]
  },
  {
   "cell_type": "code",
   "execution_count": null,
   "metadata": {},
   "outputs": [],
   "source": [
    "mn = Phenotype(data, mnull, maxExpectedCross=4, minExpectedCross=.1)\n",
    "mf = Phenotype(data, mfull, maxExpectedCross=4, minExpectedCross=.1)"
   ]
  },
  {
   "cell_type": "code",
   "execution_count": null,
   "metadata": {},
   "outputs": [],
   "source": [
    "nsamples = mn.samples()\n",
    "fsamples = mf.samples()"
   ]
  },
  {
   "cell_type": "code",
   "execution_count": null,
   "metadata": {
    "scrolled": true
   },
   "outputs": [],
   "source": [
    "nsamples"
   ]
  },
  {
   "cell_type": "code",
   "execution_count": null,
   "metadata": {},
   "outputs": [],
   "source": [
    "fsamples"
   ]
  },
  {
   "cell_type": "code",
   "execution_count": null,
   "metadata": {},
   "outputs": [],
   "source": [
    "nsamp = nsamples.extract()\n",
    "fsamp = fsamples.extract()"
   ]
  },
  {
   "cell_type": "code",
   "execution_count": null,
   "metadata": {},
   "outputs": [],
   "source": [
    "ind = 0\n",
    "m = nsamp['f'][:,ind,:].mean(0)\n",
    "s = nsamp['f'][:,ind,:].std(0)\n",
    "\n",
    "plt.plot(x, m)\n",
    "plt.fill_between(x[:,0], m-2*s, m+2*s, alpha=.4)\n",
    "\n",
    "m = fsamp['f'][:,ind,:].mean(0)\n",
    "s = fsamp['f'][:,ind,:].std(0)\n",
    "\n",
    "plt.plot(x, m)\n",
    "plt.fill_between(x[:,0], m-2*s, m+2*s, alpha=.4)\n",
    "\n",
    "plt.plot(x, mu, c='k')"
   ]
  },
  {
   "cell_type": "code",
   "execution_count": null,
   "metadata": {},
   "outputs": [],
   "source": []
  }
 ],
 "metadata": {
  "kernelspec": {
   "display_name": "Python 2",
   "language": "python",
   "name": "python2"
  },
  "language_info": {
   "codemirror_mode": {
    "name": "ipython",
    "version": 2
   },
   "file_extension": ".py",
   "mimetype": "text/x-python",
   "name": "python",
   "nbconvert_exporter": "python",
   "pygments_lexer": "ipython2",
   "version": "2.7.6"
  }
 },
 "nbformat": 4,
 "nbformat_minor": 2
}